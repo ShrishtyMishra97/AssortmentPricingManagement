{
 "cells": [
  {
   "cell_type": "code",
   "execution_count": 1,
   "id": "f08b1a55",
   "metadata": {},
   "outputs": [],
   "source": [
    "import pandas as pd\n",
    "import numpy as np\n",
    "from sklearn.model_selection import TimeSeriesSplit\n",
    "from sklearn.linear_model import LinearRegression\n",
    "from sklearn.metrics import mean_absolute_error\n",
    "import math"
   ]
  },
  {
   "cell_type": "code",
   "execution_count": 2,
   "id": "7a265b71",
   "metadata": {},
   "outputs": [],
   "source": [
    "data=pd.read_csv('final_data.csv')"
   ]
  },
  {
   "cell_type": "code",
   "execution_count": 3,
   "id": "af92cd20",
   "metadata": {},
   "outputs": [
    {
     "name": "stdout",
     "output_type": "stream",
     "text": [
      "<class 'pandas.core.frame.DataFrame'>\n",
      "RangeIndex: 27390 entries, 0 to 27389\n",
      "Data columns (total 6 columns):\n",
      " #   Column       Non-Null Count  Dtype  \n",
      "---  ------       --------------  -----  \n",
      " 0   Date         27390 non-null  object \n",
      " 1   Week         27390 non-null  int64  \n",
      " 2   ProdName     27390 non-null  object \n",
      " 3   Price        27390 non-null  float64\n",
      " 4   Seasonality  27390 non-null  int64  \n",
      " 5   Quantity     27390 non-null  int64  \n",
      "dtypes: float64(1), int64(3), object(2)\n",
      "memory usage: 1.3+ MB\n"
     ]
    }
   ],
   "source": [
    "data.info()"
   ]
  },
  {
   "cell_type": "code",
   "execution_count": 4,
   "id": "17593202",
   "metadata": {},
   "outputs": [],
   "source": [
    "data=data[data['Quantity']>0]"
   ]
  },
  {
   "cell_type": "code",
   "execution_count": 5,
   "id": "302d6e2d",
   "metadata": {},
   "outputs": [],
   "source": [
    "one_hot_encoded = pd.get_dummies(data['Seasonality'], prefix='Season').iloc[:, :-1]\n",
    "\n",
    "data = pd.concat([data, one_hot_encoded], axis=1)"
   ]
  },
  {
   "cell_type": "code",
   "execution_count": 6,
   "id": "fc54405d",
   "metadata": {},
   "outputs": [
    {
     "data": {
      "text/html": [
       "<div>\n",
       "<style scoped>\n",
       "    .dataframe tbody tr th:only-of-type {\n",
       "        vertical-align: middle;\n",
       "    }\n",
       "\n",
       "    .dataframe tbody tr th {\n",
       "        vertical-align: top;\n",
       "    }\n",
       "\n",
       "    .dataframe thead th {\n",
       "        text-align: right;\n",
       "    }\n",
       "</style>\n",
       "<table border=\"1\" class=\"dataframe\">\n",
       "  <thead>\n",
       "    <tr style=\"text-align: right;\">\n",
       "      <th></th>\n",
       "      <th>Date</th>\n",
       "      <th>Week</th>\n",
       "      <th>ProdName</th>\n",
       "      <th>Price</th>\n",
       "      <th>Seasonality</th>\n",
       "      <th>Quantity</th>\n",
       "      <th>Season_1</th>\n",
       "      <th>Season_2</th>\n",
       "      <th>Season_3</th>\n",
       "      <th>Season_4</th>\n",
       "      <th>Season_5</th>\n",
       "      <th>Season_6</th>\n",
       "    </tr>\n",
       "  </thead>\n",
       "  <tbody>\n",
       "    <tr>\n",
       "      <th>0</th>\n",
       "      <td>1/2/2018</td>\n",
       "      <td>1</td>\n",
       "      <td>Basil Extra Virgin Olive Oil</td>\n",
       "      <td>25.0</td>\n",
       "      <td>2</td>\n",
       "      <td>2</td>\n",
       "      <td>False</td>\n",
       "      <td>True</td>\n",
       "      <td>False</td>\n",
       "      <td>False</td>\n",
       "      <td>False</td>\n",
       "      <td>False</td>\n",
       "    </tr>\n",
       "    <tr>\n",
       "      <th>1</th>\n",
       "      <td>1/3/2018</td>\n",
       "      <td>1</td>\n",
       "      <td>Basil Extra Virgin Olive Oil</td>\n",
       "      <td>24.0</td>\n",
       "      <td>3</td>\n",
       "      <td>4</td>\n",
       "      <td>False</td>\n",
       "      <td>False</td>\n",
       "      <td>True</td>\n",
       "      <td>False</td>\n",
       "      <td>False</td>\n",
       "      <td>False</td>\n",
       "    </tr>\n",
       "    <tr>\n",
       "      <th>2</th>\n",
       "      <td>1/4/2018</td>\n",
       "      <td>1</td>\n",
       "      <td>Basil Extra Virgin Olive Oil</td>\n",
       "      <td>26.0</td>\n",
       "      <td>4</td>\n",
       "      <td>3</td>\n",
       "      <td>False</td>\n",
       "      <td>False</td>\n",
       "      <td>False</td>\n",
       "      <td>True</td>\n",
       "      <td>False</td>\n",
       "      <td>False</td>\n",
       "    </tr>\n",
       "    <tr>\n",
       "      <th>3</th>\n",
       "      <td>1/5/2018</td>\n",
       "      <td>1</td>\n",
       "      <td>Basil Extra Virgin Olive Oil</td>\n",
       "      <td>23.0</td>\n",
       "      <td>5</td>\n",
       "      <td>3</td>\n",
       "      <td>False</td>\n",
       "      <td>False</td>\n",
       "      <td>False</td>\n",
       "      <td>False</td>\n",
       "      <td>True</td>\n",
       "      <td>False</td>\n",
       "    </tr>\n",
       "    <tr>\n",
       "      <th>4</th>\n",
       "      <td>1/6/2018</td>\n",
       "      <td>1</td>\n",
       "      <td>Basil Extra Virgin Olive Oil</td>\n",
       "      <td>28.0</td>\n",
       "      <td>6</td>\n",
       "      <td>5</td>\n",
       "      <td>False</td>\n",
       "      <td>False</td>\n",
       "      <td>False</td>\n",
       "      <td>False</td>\n",
       "      <td>False</td>\n",
       "      <td>True</td>\n",
       "    </tr>\n",
       "  </tbody>\n",
       "</table>\n",
       "</div>"
      ],
      "text/plain": [
       "       Date  Week                      ProdName  Price  Seasonality  Quantity  \\\n",
       "0  1/2/2018     1  Basil Extra Virgin Olive Oil   25.0            2         2   \n",
       "1  1/3/2018     1  Basil Extra Virgin Olive Oil   24.0            3         4   \n",
       "2  1/4/2018     1  Basil Extra Virgin Olive Oil   26.0            4         3   \n",
       "3  1/5/2018     1  Basil Extra Virgin Olive Oil   23.0            5         3   \n",
       "4  1/6/2018     1  Basil Extra Virgin Olive Oil   28.0            6         5   \n",
       "\n",
       "   Season_1  Season_2  Season_3  Season_4  Season_5  Season_6  \n",
       "0     False      True     False     False     False     False  \n",
       "1     False     False      True     False     False     False  \n",
       "2     False     False     False      True     False     False  \n",
       "3     False     False     False     False      True     False  \n",
       "4     False     False     False     False     False      True  "
      ]
     },
     "execution_count": 6,
     "metadata": {},
     "output_type": "execute_result"
    }
   ],
   "source": [
    "data.head()"
   ]
  },
  {
   "cell_type": "code",
   "execution_count": 7,
   "id": "775f9c65",
   "metadata": {},
   "outputs": [],
   "source": [
    "results_df=pd.DataFrame({'ProdName': data['ProdName'].unique()}) \n",
    "for product in list(data['ProdName'].unique()):\n",
    "    ts_data=data[data['ProdName']==product].reset_index(drop=True)\n",
    "    ts_data.sort_values(by='Date',inplace=True)\n",
    "    X=ts_data.drop(['Quantity','ProdName','Date','Seasonality'],axis=1)\n",
    "    y=ts_data['Quantity']\n",
    "    tscv = TimeSeriesSplit(n_splits=5)\n",
    "    train_scores=np.zeros((5,4))\n",
    "    val_scores=np.zeros((5,4))\n",
    "    index=0\n",
    "    for train_index, val_index in tscv.split(X):\n",
    "        X_train, X_val = X.iloc[train_index], X.iloc[val_index]\n",
    "        y_train, y_val = y.iloc[train_index], y.iloc[val_index]\n",
    "        \n",
    "        model1 = LinearRegression()\n",
    "        model1.fit(X_train, y_train)\n",
    "        train_scores[index,0] = mean_absolute_error(y_train, model1.predict(X_train))\n",
    "        val_scores[index,0] = mean_absolute_error(y_val, model1.predict(X_val))\n",
    "        model5 = LinearRegression()\n",
    "        model5.fit(X,y)\n",
    "        std_dev5=np.std(np.array(y) - model5.predict(X))\n",
    "        \n",
    "        model2 = LinearRegression()\n",
    "        model2.fit(X_train.applymap(lambda x: math.log1p(x)), y_train)\n",
    "        train_scores[index,1] = mean_absolute_error(y_train, model2.predict(X_train.applymap(lambda x: math.log1p(x))))\n",
    "        val_scores[index,1] = mean_absolute_error(y_val, model2.predict(X_val.applymap(lambda x: math.log1p(x))))\n",
    "        model6 = LinearRegression()\n",
    "        model6.fit(X.applymap(lambda x: math.log1p(x)),y)\n",
    "        std_dev6=np.std(np.array(y) - model6.predict(X.applymap(lambda x: math.log1p(x))))\n",
    "        \n",
    "        model3 = LinearRegression()\n",
    "        model3.fit(X_train, np.log1p(y_train))\n",
    "        train_scores[index,2] = mean_absolute_error(y_train, np.expm1(model3.predict(X_train)))\n",
    "        val_scores[index,2] = mean_absolute_error(y_val, np.expm1(model3.predict(X_val)))\n",
    "        model7 = LinearRegression()\n",
    "        model7.fit(X, np.log1p(y))\n",
    "        std_dev7=np.std(np.array(y) - np.expm1(model7.predict(X)))\n",
    "        \n",
    "        model4 = LinearRegression()\n",
    "        model4.fit(X_train.applymap(lambda x: math.log1p(x)), np.log1p(y_train))\n",
    "        train_scores[index,3] = mean_absolute_error(y_train, np.expm1(model4.predict(X_train.applymap(lambda x: math.log1p(x)))))\n",
    "        val_scores[index,3] = mean_absolute_error(y_val, np.expm1(model4.predict(X_val.applymap(lambda x: math.log1p(x)))))\n",
    "        model8 = LinearRegression()\n",
    "        model8.fit(X.applymap(lambda x: math.log1p(x)),np.log1p(y))\n",
    "        std_dev8=np.std(np.array(y) - np.expm1(model8.predict(X.applymap(lambda x: math.log1p(x)))))\n",
    "        \n",
    "        index=index+1\n",
    "    train_scores=np.mean(train_scores, axis=0)\n",
    "    val_scores=np.mean(val_scores, axis=0)\n",
    "    \n",
    "    results_df.loc[results_df['ProdName'] == product, 'Val_Score'] = np.min(val_scores)\n",
    "    results_df.loc[results_df['ProdName'] == product, 'Train_Score'] = np.min(train_scores)\n",
    "    results_df.loc[results_df['ProdName'] == product, 'Model'] = [model5,model6,model7,model8][np.argmin(val_scores)]\n",
    "    results_df.loc[results_df['ProdName'] == product, 'ModelType'] = np.argmin(val_scores)\n",
    "    results_df.loc[results_df['ProdName'] == product, 'Std_Dev'] = [std_dev5,std_dev6,std_dev7,std_dev8][np.argmin(val_scores)]"
   ]
  },
  {
   "cell_type": "code",
   "execution_count": 8,
   "id": "914d0122",
   "metadata": {},
   "outputs": [
    {
     "data": {
      "text/plain": [
       "ModelType\n",
       "2.0    7\n",
       "0.0    5\n",
       "3.0    3\n",
       "Name: count, dtype: int64"
      ]
     },
     "execution_count": 8,
     "metadata": {},
     "output_type": "execute_result"
    }
   ],
   "source": [
    "results_df['ModelType'].value_counts()"
   ]
  },
  {
   "cell_type": "code",
   "execution_count": 9,
   "id": "223e7f91",
   "metadata": {},
   "outputs": [],
   "source": [
    "def sample_prices(group):\n",
    "    return group.sample(n=30, replace=True)\n",
    "\n",
    "# Group by 'ProdName' and apply the sampling function\n",
    "sampled_data = data[['ProdName','Price']].groupby('ProdName').apply(sample_prices).reset_index(drop=True).sort_values(by='ProdName').drop('ProdName', axis=1)"
   ]
  },
  {
   "cell_type": "code",
   "execution_count": 10,
   "id": "78fae04b",
   "metadata": {},
   "outputs": [],
   "source": [
    "X_forecast = pd.concat([pd.DataFrame({'ProdName' :data['ProdName'].unique()}), pd.Series(1, index=pd.DataFrame(data['ProdName'].unique()).index, name='Key')], axis=1)\\\n",
    ".merge(pd.DataFrame({'Date': pd.date_range(start='2024-04-01', end='2024-04-30', freq='D'), 'Key': 1}),\\\n",
    "      how='inner' , on='Key')"
   ]
  },
  {
   "cell_type": "code",
   "execution_count": 11,
   "id": "7d1261d8",
   "metadata": {},
   "outputs": [],
   "source": [
    "X_forecast.drop('Key',axis=1, inplace=True)\n",
    "X_forecast['Seasonality']=X_forecast['Date'].dt.dayofweek+1"
   ]
  },
  {
   "cell_type": "code",
   "execution_count": 12,
   "id": "5757e6d4",
   "metadata": {},
   "outputs": [
    {
     "data": {
      "text/html": [
       "<div>\n",
       "<style scoped>\n",
       "    .dataframe tbody tr th:only-of-type {\n",
       "        vertical-align: middle;\n",
       "    }\n",
       "\n",
       "    .dataframe tbody tr th {\n",
       "        vertical-align: top;\n",
       "    }\n",
       "\n",
       "    .dataframe thead th {\n",
       "        text-align: right;\n",
       "    }\n",
       "</style>\n",
       "<table border=\"1\" class=\"dataframe\">\n",
       "  <thead>\n",
       "    <tr style=\"text-align: right;\">\n",
       "      <th></th>\n",
       "      <th>ProdName</th>\n",
       "      <th>Date</th>\n",
       "      <th>Seasonality</th>\n",
       "      <th>Week</th>\n",
       "    </tr>\n",
       "  </thead>\n",
       "  <tbody>\n",
       "    <tr>\n",
       "      <th>0</th>\n",
       "      <td>Basil Extra Virgin Olive Oil</td>\n",
       "      <td>2024-04-01</td>\n",
       "      <td>1</td>\n",
       "      <td>327</td>\n",
       "    </tr>\n",
       "    <tr>\n",
       "      <th>1</th>\n",
       "      <td>Basil Extra Virgin Olive Oil</td>\n",
       "      <td>2024-04-02</td>\n",
       "      <td>2</td>\n",
       "      <td>327</td>\n",
       "    </tr>\n",
       "    <tr>\n",
       "      <th>2</th>\n",
       "      <td>Basil Extra Virgin Olive Oil</td>\n",
       "      <td>2024-04-03</td>\n",
       "      <td>3</td>\n",
       "      <td>327</td>\n",
       "    </tr>\n",
       "    <tr>\n",
       "      <th>3</th>\n",
       "      <td>Basil Extra Virgin Olive Oil</td>\n",
       "      <td>2024-04-04</td>\n",
       "      <td>4</td>\n",
       "      <td>327</td>\n",
       "    </tr>\n",
       "    <tr>\n",
       "      <th>4</th>\n",
       "      <td>Basil Extra Virgin Olive Oil</td>\n",
       "      <td>2024-04-05</td>\n",
       "      <td>5</td>\n",
       "      <td>327</td>\n",
       "    </tr>\n",
       "    <tr>\n",
       "      <th>...</th>\n",
       "      <td>...</td>\n",
       "      <td>...</td>\n",
       "      <td>...</td>\n",
       "      <td>...</td>\n",
       "    </tr>\n",
       "    <tr>\n",
       "      <th>415</th>\n",
       "      <td>Vanilla and Olive Oil Candle</td>\n",
       "      <td>2024-04-26</td>\n",
       "      <td>5</td>\n",
       "      <td>330</td>\n",
       "    </tr>\n",
       "    <tr>\n",
       "      <th>416</th>\n",
       "      <td>Vanilla and Olive Oil Candle</td>\n",
       "      <td>2024-04-27</td>\n",
       "      <td>6</td>\n",
       "      <td>330</td>\n",
       "    </tr>\n",
       "    <tr>\n",
       "      <th>417</th>\n",
       "      <td>Vanilla and Olive Oil Candle</td>\n",
       "      <td>2024-04-28</td>\n",
       "      <td>7</td>\n",
       "      <td>330</td>\n",
       "    </tr>\n",
       "    <tr>\n",
       "      <th>418</th>\n",
       "      <td>Vanilla and Olive Oil Candle</td>\n",
       "      <td>2024-04-29</td>\n",
       "      <td>1</td>\n",
       "      <td>331</td>\n",
       "    </tr>\n",
       "    <tr>\n",
       "      <th>419</th>\n",
       "      <td>Vanilla and Olive Oil Candle</td>\n",
       "      <td>2024-04-30</td>\n",
       "      <td>2</td>\n",
       "      <td>331</td>\n",
       "    </tr>\n",
       "  </tbody>\n",
       "</table>\n",
       "<p>450 rows × 4 columns</p>\n",
       "</div>"
      ],
      "text/plain": [
       "                         ProdName       Date  Seasonality  Week\n",
       "0    Basil Extra Virgin Olive Oil 2024-04-01            1   327\n",
       "1    Basil Extra Virgin Olive Oil 2024-04-02            2   327\n",
       "2    Basil Extra Virgin Olive Oil 2024-04-03            3   327\n",
       "3    Basil Extra Virgin Olive Oil 2024-04-04            4   327\n",
       "4    Basil Extra Virgin Olive Oil 2024-04-05            5   327\n",
       "..                            ...        ...          ...   ...\n",
       "415  Vanilla and Olive Oil Candle 2024-04-26            5   330\n",
       "416  Vanilla and Olive Oil Candle 2024-04-27            6   330\n",
       "417  Vanilla and Olive Oil Candle 2024-04-28            7   330\n",
       "418  Vanilla and Olive Oil Candle 2024-04-29            1   331\n",
       "419  Vanilla and Olive Oil Candle 2024-04-30            2   331\n",
       "\n",
       "[450 rows x 4 columns]"
      ]
     },
     "execution_count": 12,
     "metadata": {},
     "output_type": "execute_result"
    }
   ],
   "source": [
    "X_forecast['Week'] = (X_forecast['Date'].dt.day - 1) // 7 + 327\n",
    "X_forecast.sort_values(by=['ProdName','Date'])"
   ]
  },
  {
   "cell_type": "code",
   "execution_count": 13,
   "id": "005cdbe2",
   "metadata": {},
   "outputs": [],
   "source": [
    "X_forecast = pd.concat([X_forecast, sampled_data], axis=1)"
   ]
  },
  {
   "cell_type": "code",
   "execution_count": 14,
   "id": "72ad7e31",
   "metadata": {},
   "outputs": [],
   "source": [
    "one_hot_encoded = pd.get_dummies(X_forecast['Seasonality'], prefix='Season').iloc[:, :-1]\n",
    "\n",
    "X_data = pd.concat([X_forecast, one_hot_encoded], axis=1)"
   ]
  },
  {
   "cell_type": "code",
   "execution_count": 15,
   "id": "6f0dcfeb",
   "metadata": {},
   "outputs": [],
   "source": [
    "for product in list(X_data['ProdName'].unique()):\n",
    "    ts_data=X_data[X_data['ProdName']==product].reset_index(drop=True)\n",
    "    ts_data.sort_values(by='Date',inplace=True)\n",
    "    X=ts_data.drop(['ProdName','Date','Seasonality'],axis=1)\n",
    "    model = results_df[results_df['ProdName']==product]['Model'].iloc[0]\n",
    "    \n",
    "    if results_df[results_df['ProdName']==product]['ModelType'].iloc[0]==0:\n",
    "        X_forecast.loc[X_forecast['ProdName'] == product, 'Prediction'] = model.predict(X)\n",
    "    elif results_df[results_df['ProdName']==product]['ModelType'].iloc[0]==1:\n",
    "        X_forecast.loc[X_forecast['ProdName'] == product, 'Prediction'] = model.predict(X.applymap(lambda x: math.log1p(x)))\n",
    "    elif results_df[results_df['ProdName']==product]['ModelType'].iloc[0]==2:\n",
    "        X_forecast.loc[X_forecast['ProdName'] == product, 'Prediction'] = np.expm1(model.predict(X))\n",
    "    else:        \n",
    "        X_forecast.loc[X_forecast['ProdName'] == product, 'Prediction'] = np.expm1(model.predict(X.applymap(lambda x: math.log1p(x))))\n",
    "        \n",
    "# X_forecast['Prediction'] = X_forecast['Prediction'].round().astype(int)"
   ]
  },
  {
   "cell_type": "code",
   "execution_count": 16,
   "id": "10139d73",
   "metadata": {},
   "outputs": [],
   "source": [
    "X_forecast.merge(results_df[['ProdName','Std_Dev']],how='inner',on='ProdName').to_csv('forecast_data.csv')"
   ]
  },
  {
   "cell_type": "code",
   "execution_count": 17,
   "id": "a7b456c0",
   "metadata": {},
   "outputs": [
    {
     "data": {
      "text/plain": [
       "array([ 0.02987332, -0.32766966, -4.82134105, -3.96138499, -3.13249641,\n",
       "       -2.5771183 , -1.20923494,  1.90462413])"
      ]
     },
     "execution_count": 17,
     "metadata": {},
     "output_type": "execute_result"
    }
   ],
   "source": [
    "results_df[results_df['ProdName']=='Basil Extra Virgin Olive Oil']['Model'].iloc[0].coef_"
   ]
  },
  {
   "cell_type": "code",
   "execution_count": 18,
   "id": "652fbfb1",
   "metadata": {},
   "outputs": [
    {
     "data": {
      "text/plain": [
       "14.28093095975656"
      ]
     },
     "execution_count": 18,
     "metadata": {},
     "output_type": "execute_result"
    }
   ],
   "source": [
    "results_df[results_df['ProdName']=='Basil Extra Virgin Olive Oil']['Model'].iloc[0].intercept_"
   ]
  }
 ],
 "metadata": {
  "kernelspec": {
   "display_name": "Python 3 (ipykernel)",
   "language": "python",
   "name": "python3"
  },
  "language_info": {
   "codemirror_mode": {
    "name": "ipython",
    "version": 3
   },
   "file_extension": ".py",
   "mimetype": "text/x-python",
   "name": "python",
   "nbconvert_exporter": "python",
   "pygments_lexer": "ipython3",
   "version": "3.11.5"
  }
 },
 "nbformat": 4,
 "nbformat_minor": 5
}
